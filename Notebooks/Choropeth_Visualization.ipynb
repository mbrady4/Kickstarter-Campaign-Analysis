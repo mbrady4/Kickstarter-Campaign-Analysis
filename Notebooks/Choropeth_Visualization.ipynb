{
  "nbformat": 4,
  "nbformat_minor": 0,
  "metadata": {
    "colab": {
      "name": "Choropeth Visualization.ipynb",
      "version": "0.3.2",
      "provenance": []
    },
    "kernelspec": {
      "name": "python3",
      "display_name": "Python 3"
    }
  },
  "cells": [
    {
      "metadata": {
        "id": "GxHQZosFva3V",
        "colab_type": "code",
        "colab": {}
      },
      "cell_type": "code",
      "source": [
        "import pandas as pd"
      ],
      "execution_count": 0,
      "outputs": []
    },
    {
      "metadata": {
        "id": "gBe21_NWveNT",
        "colab_type": "code",
        "colab": {
          "resources": {
            "http://localhost:8080/nbextensions/google.colab/files.js": {
              "data": "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",
              "ok": true,
              "headers": [
                [
                  "content-type",
                  "application/javascript"
                ]
              ],
              "status": 200,
              "status_text": ""
            }
          },
          "base_uri": "https://localhost:8080/",
          "height": 75
        },
        "outputId": "3b519827-4d7e-4afc-81ac-2194900c74d9"
      },
      "cell_type": "code",
      "source": [
        "from google.colab import files\n",
        "uploaded = files.upload()"
      ],
      "execution_count": 2,
      "outputs": [
        {
          "output_type": "display_data",
          "data": {
            "text/html": [
              "\n",
              "     <input type=\"file\" id=\"files-1e2b6c4a-1541-43e2-8069-770c0fd6ce94\" name=\"files[]\" multiple disabled />\n",
              "     <output id=\"result-1e2b6c4a-1541-43e2-8069-770c0fd6ce94\">\n",
              "      Upload widget is only available when the cell has been executed in the\n",
              "      current browser session. Please rerun this cell to enable.\n",
              "      </output>\n",
              "      <script src=\"/nbextensions/google.colab/files.js\"></script> "
            ],
            "text/plain": [
              "<IPython.core.display.HTML object>"
            ]
          },
          "metadata": {
            "tags": []
          }
        },
        {
          "output_type": "stream",
          "text": [
            "Saving data.csv to data (1).csv\n"
          ],
          "name": "stdout"
        }
      ]
    },
    {
      "metadata": {
        "id": "00ph-VucvgpG",
        "colab_type": "code",
        "colab": {}
      },
      "cell_type": "code",
      "source": [
        "df = pd.read_csv('data.csv')"
      ],
      "execution_count": 0,
      "outputs": []
    },
    {
      "metadata": {
        "id": "mb5TNQN5vlrY",
        "colab_type": "code",
        "colab": {}
      },
      "cell_type": "code",
      "source": [
        "import altair as alt\n",
        "from vega_datasets import data"
      ],
      "execution_count": 0,
      "outputs": []
    },
    {
      "metadata": {
        "id": "7hYnQRLkvpxv",
        "colab_type": "code",
        "colab": {
          "base_uri": "https://localhost:8080/",
          "height": 649
        },
        "outputId": "dc0a7d72-5c40-4d21-abc6-d90edfe7f4f3"
      },
      "cell_type": "code",
      "source": [
        "states = alt.topo_feature(data.us_10m.url, 'states')\n",
        "source = df\n",
        "variable_list = ['Campaign Success Rate']\n",
        "tooltip=[df['State'],df['Campaign Success Rate']]\n",
        "\n",
        "alt.Chart(states).mark_geoshape().encode(\n",
        "    color=('Campaign Success Rate:Q'),\n",
        "    tooltip=['State:O','Campaign Success Rate:Q']\n",
        ").transform_lookup(\n",
        "    lookup='id',\n",
        "    from_=alt.LookupData(source, 'id', ['Campaign Success Rate'])\n",
        ").project(\n",
        "    type='albersUsa'\n",
        ").properties(\n",
        "    width=1000,\n",
        "    height=600,\n",
        "    title=\"The Average Success Rate of Campaigns Varies Based on Creator's Location\"\n",
        ")"
      ],
      "execution_count": 6,
      "outputs": [
        {
          "output_type": "execute_result",
          "data": {
            "text/plain": [
              "Chart({\n",
              "  data: UrlData({\n",
              "    format: TopoDataFormat({\n",
              "      feature: 'states',\n",
              "      type: 'topojson'\n",
              "    }),\n",
              "    url: 'https://vega.github.io/vega-datasets/data/us-10m.json'\n",
              "  }),\n",
              "  encoding: EncodingWithFacet({\n",
              "    color: Color({\n",
              "      shorthand: 'Campaign Success Rate:Q'\n",
              "    }),\n",
              "    tooltip: [Tooltip({\n",
              "      shorthand: 'State:O'\n",
              "    }), Tooltip({\n",
              "      shorthand: 'Campaign Success Rate:Q'\n",
              "    })]\n",
              "  }),\n",
              "  height: 600,\n",
              "  mark: 'geoshape',\n",
              "  projection: Projection({\n",
              "    type: 'albersUsa'\n",
              "  }),\n",
              "  title: \"The Average Success Rate of Campaigns Varies Based on Creator's Location\",\n",
              "  transform: [LookupTransform({\n",
              "    from: LookupData({\n",
              "      data:     Unnamed: 0 Abbreviation  Campaign Success Rate                 State  id\n",
              "      0            0           AL               0.418803               Alabama   1\n",
              "      1            1           AK               0.552408                Alaska   2\n",
              "      2            2           AZ               0.461341               Arizona   4\n",
              "      3            3           AR               0.404297              Arkansas   5\n",
              "      4            4           CA               0.589852            California   6\n",
              "      5            5           CO               0.534076              Colorado   8\n",
              "      6            6           CT               0.546931           Connecticut   9\n",
              "      7            7           DE               0.471631              Delaware  10\n",
              "      8            8           DC               0.566465  District of Columbia  11\n",
              "      9            9           FL               0.369499               Florida  12\n",
              "      10          10           GA               0.414671               Georgia  13\n",
              "      11          11           HI               0.469352                Hawaii  15\n",
              "      12          12           ID               0.486312                 Idaho  16\n",
              "      13          13           IL               0.570952              Illinois  17\n",
              "      14          14           IN               0.436206               Indiana  18\n",
              "      15          15           IA               0.506042                  Iowa  19\n",
              "      16          16           KS               0.414191                Kansas  20\n",
              "      17          17           KY               0.454449              Kentucky  21\n",
              "      18          18           LA               0.514589             Louisiana  22\n",
              "      19          19           ME               0.588785                 Maine  23\n",
              "      20          20           MD               0.509583              Maryland  24\n",
              "      21          21           MA               0.671090         Massachusetts  25\n",
              "      22          22           MI               0.513326              Michigan  26\n",
              "      23          23           MN               0.623758             Minnesota  27\n",
              "      24          24           MS               0.407625           Mississippi  28\n",
              "      25          25           MO               0.496609              Missouri  29\n",
              "      26          26           MT               0.592593               Montana  30\n",
              "      27          27           NE               0.440389              Nebraska  31\n",
              "      28          28           NV               0.499705                Nevada  32\n",
              "      29          29           NH               0.535373         New Hampshire  33\n",
              "      30          30           NJ               0.472899            New Jersey  34\n",
              "      31          31           NM               0.529880            New Mexico  35\n",
              "      32          32           NY               0.653265              New York  36\n",
              "      33          33           NC               0.472860        North Carolina  37\n",
              "      34          34           ND               0.464052          North Dakota  38\n",
              "      35          35           OH               0.469894                  Ohio  39\n",
              "      36          36           OK               0.452297              Oklahoma  40\n",
              "      37          37           OR               0.631861                Oregon  41\n",
              "      38          38           PA               0.561562          Pennsylvania  42\n",
              "      39          39           RI               0.611345          Rhode Island  44\n",
              "      40          40           SC               0.455823        South Carolina  45\n",
              "      41          41           SD               0.382353          South Dakota  46\n",
              "      42          42           TN               0.594477             Tennessee  47\n",
              "      43          43           TX               0.488319                 Texas  48\n",
              "      44          44           UT               0.547783                  Utah  49\n",
              "      45          45           VT               0.735675               Vermont  50\n",
              "      46          46           VA               0.485144              Virginia  51\n",
              "      47          47           WA               0.621745            Washington  53\n",
              "      48          48           WV               0.448505         West Virginia  54\n",
              "      49          49           WI               0.533168             Wisconsin  55\n",
              "      50          50           WY               0.535948               Wyoming  56,\n",
              "      fields: ['Campaign Success Rate'],\n",
              "      key: 'id'\n",
              "    }),\n",
              "    lookup: 'id'\n",
              "  })],\n",
              "  width: 1000\n",
              "})"
            ],
            "text/html": [
              "<!DOCTYPE html>\n",
              "<html>\n",
              "<head>\n",
              "  <style>\n",
              "    .vega-actions a {\n",
              "        margin-right: 12px;\n",
              "        color: #757575;\n",
              "        font-weight: normal;\n",
              "        font-size: 13px;\n",
              "    }\n",
              "    .error {\n",
              "        color: red;\n",
              "    }\n",
              "  </style>\n",
              "  <script type=\"text/javascript\" src=\"https://cdn.jsdelivr.net/npm//vega@4\"></script>\n",
              "  <script type=\"text/javascript\" src=\"https://cdn.jsdelivr.net/npm//vega-lite@2.6.0\"></script>\n",
              "  <script type=\"text/javascript\" src=\"https://cdn.jsdelivr.net/npm//vega-embed@3\"></script>\n",
              "</head>\n",
              "<body>\n",
              "  <div id=\"altair-viz\"></div>\n",
              "  <script>\n",
              "      var spec = {\"config\": {\"view\": {\"width\": 400, \"height\": 300}}, \"data\": {\"url\": \"https://vega.github.io/vega-datasets/data/us-10m.json\", \"format\": {\"feature\": \"states\", \"type\": \"topojson\"}}, \"mark\": \"geoshape\", \"encoding\": {\"color\": {\"type\": \"quantitative\", \"field\": \"Campaign Success Rate\"}, \"tooltip\": [{\"type\": \"ordinal\", \"field\": \"State\"}, {\"type\": \"quantitative\", \"field\": \"Campaign Success Rate\"}]}, \"height\": 600, \"projection\": {\"type\": \"albersUsa\"}, \"title\": \"The Average Success Rate of Campaigns Varies Based on Creator's Location\", \"transform\": [{\"lookup\": \"id\", \"from\": {\"data\": {\"name\": \"data-d8754949354a910702b16375d4c7fd84\"}, \"key\": \"id\", \"fields\": [\"Campaign Success Rate\"]}}], \"width\": 1000, \"$schema\": \"https://vega.github.io/schema/vega-lite/v2.6.0.json\", \"datasets\": {\"data-d8754949354a910702b16375d4c7fd84\": [{\"Unnamed: 0\": 0, \"Abbreviation\": \"AL\", \"Campaign Success Rate\": 0.4188034188034188, \"State\": \"Alabama\", \"id\": 1}, {\"Unnamed: 0\": 1, \"Abbreviation\": \"AK\", \"Campaign Success Rate\": 0.5524079320113314, \"State\": \"Alaska\", \"id\": 2}, {\"Unnamed: 0\": 2, \"Abbreviation\": \"AZ\", \"Campaign Success Rate\": 0.4613413071337035, \"State\": \"Arizona\", \"id\": 4}, {\"Unnamed: 0\": 3, \"Abbreviation\": \"AR\", \"Campaign Success Rate\": 0.404296875, \"State\": \"Arkansas\", \"id\": 5}, {\"Unnamed: 0\": 4, \"Abbreviation\": \"CA\", \"Campaign Success Rate\": 0.5898519182349677, \"State\": \"California\", \"id\": 6}, {\"Unnamed: 0\": 5, \"Abbreviation\": \"CO\", \"Campaign Success Rate\": 0.5340755735492577, \"State\": \"Colorado\", \"id\": 8}, {\"Unnamed: 0\": 6, \"Abbreviation\": \"CT\", \"Campaign Success Rate\": 0.5469314079422383, \"State\": \"Connecticut\", \"id\": 9}, {\"Unnamed: 0\": 7, \"Abbreviation\": \"DE\", \"Campaign Success Rate\": 0.4716312056737589, \"State\": \"Delaware\", \"id\": 10}, {\"Unnamed: 0\": 8, \"Abbreviation\": \"DC\", \"Campaign Success Rate\": 0.5664652567975831, \"State\": \"District of Columbia\", \"id\": 11}, {\"Unnamed: 0\": 9, \"Abbreviation\": \"FL\", \"Campaign Success Rate\": 0.3694986296953087, \"State\": \"Florida\", \"id\": 12}, {\"Unnamed: 0\": 10, \"Abbreviation\": \"GA\", \"Campaign Success Rate\": 0.4146706586826348, \"State\": \"Georgia\", \"id\": 13}, {\"Unnamed: 0\": 11, \"Abbreviation\": \"HI\", \"Campaign Success Rate\": 0.4693520140105079, \"State\": \"Hawaii\", \"id\": 15}, {\"Unnamed: 0\": 12, \"Abbreviation\": \"ID\", \"Campaign Success Rate\": 0.4863123993558776, \"State\": \"Idaho\", \"id\": 16}, {\"Unnamed: 0\": 13, \"Abbreviation\": \"IL\", \"Campaign Success Rate\": 0.5709515859766278, \"State\": \"Illinois\", \"id\": 17}, {\"Unnamed: 0\": 14, \"Abbreviation\": \"IN\", \"Campaign Success Rate\": 0.4362057448229793, \"State\": \"Indiana\", \"id\": 18}, {\"Unnamed: 0\": 15, \"Abbreviation\": \"IA\", \"Campaign Success Rate\": 0.5060422960725075, \"State\": \"Iowa\", \"id\": 19}, {\"Unnamed: 0\": 16, \"Abbreviation\": \"KS\", \"Campaign Success Rate\": 0.4141914191419142, \"State\": \"Kansas\", \"id\": 20}, {\"Unnamed: 0\": 17, \"Abbreviation\": \"KY\", \"Campaign Success Rate\": 0.4544491525423729, \"State\": \"Kentucky\", \"id\": 21}, {\"Unnamed: 0\": 18, \"Abbreviation\": \"LA\", \"Campaign Success Rate\": 0.5145888594164456, \"State\": \"Louisiana\", \"id\": 22}, {\"Unnamed: 0\": 19, \"Abbreviation\": \"ME\", \"Campaign Success Rate\": 0.5887850467289719, \"State\": \"Maine\", \"id\": 23}, {\"Unnamed: 0\": 20, \"Abbreviation\": \"MD\", \"Campaign Success Rate\": 0.5095828635851184, \"State\": \"Maryland\", \"id\": 24}, {\"Unnamed: 0\": 21, \"Abbreviation\": \"MA\", \"Campaign Success Rate\": 0.6710897797854319, \"State\": \"Massachusetts\", \"id\": 25}, {\"Unnamed: 0\": 22, \"Abbreviation\": \"MI\", \"Campaign Success Rate\": 0.5133264105226722, \"State\": \"Michigan\", \"id\": 26}, {\"Unnamed: 0\": 23, \"Abbreviation\": \"MN\", \"Campaign Success Rate\": 0.6237580993520518, \"State\": \"Minnesota\", \"id\": 27}, {\"Unnamed: 0\": 24, \"Abbreviation\": \"MS\", \"Campaign Success Rate\": 0.40762463343108507, \"State\": \"Mississippi\", \"id\": 28}, {\"Unnamed: 0\": 25, \"Abbreviation\": \"MO\", \"Campaign Success Rate\": 0.4966092853416797, \"State\": \"Missouri\", \"id\": 29}, {\"Unnamed: 0\": 26, \"Abbreviation\": \"MT\", \"Campaign Success Rate\": 0.5925925925925926, \"State\": \"Montana\", \"id\": 30}, {\"Unnamed: 0\": 27, \"Abbreviation\": \"NE\", \"Campaign Success Rate\": 0.44038929440389296, \"State\": \"Nebraska\", \"id\": 31}, {\"Unnamed: 0\": 28, \"Abbreviation\": \"NV\", \"Campaign Success Rate\": 0.4997046662728883, \"State\": \"Nevada\", \"id\": 32}, {\"Unnamed: 0\": 29, \"Abbreviation\": \"NH\", \"Campaign Success Rate\": 0.5353728489483748, \"State\": \"New Hampshire\", \"id\": 33}, {\"Unnamed: 0\": 30, \"Abbreviation\": \"NJ\", \"Campaign Success Rate\": 0.4728990551964197, \"State\": \"New Jersey\", \"id\": 34}, {\"Unnamed: 0\": 31, \"Abbreviation\": \"NM\", \"Campaign Success Rate\": 0.5298804780876494, \"State\": \"New Mexico\", \"id\": 35}, {\"Unnamed: 0\": 32, \"Abbreviation\": \"NY\", \"Campaign Success Rate\": 0.6532649572649573, \"State\": \"New York\", \"id\": 36}, {\"Unnamed: 0\": 33, \"Abbreviation\": \"NC\", \"Campaign Success Rate\": 0.4728601252609603, \"State\": \"North Carolina\", \"id\": 37}, {\"Unnamed: 0\": 34, \"Abbreviation\": \"ND\", \"Campaign Success Rate\": 0.4640522875816994, \"State\": \"North Dakota\", \"id\": 38}, {\"Unnamed: 0\": 35, \"Abbreviation\": \"OH\", \"Campaign Success Rate\": 0.4698940998487141, \"State\": \"Ohio\", \"id\": 39}, {\"Unnamed: 0\": 36, \"Abbreviation\": \"OK\", \"Campaign Success Rate\": 0.4522968197879858, \"State\": \"Oklahoma\", \"id\": 40}, {\"Unnamed: 0\": 37, \"Abbreviation\": \"OR\", \"Campaign Success Rate\": 0.6318611987381704, \"State\": \"Oregon\", \"id\": 41}, {\"Unnamed: 0\": 38, \"Abbreviation\": \"PA\", \"Campaign Success Rate\": 0.5615615615615616, \"State\": \"Pennsylvania\", \"id\": 42}, {\"Unnamed: 0\": 39, \"Abbreviation\": \"RI\", \"Campaign Success Rate\": 0.6113445378151261, \"State\": \"Rhode Island\", \"id\": 44}, {\"Unnamed: 0\": 40, \"Abbreviation\": \"SC\", \"Campaign Success Rate\": 0.4558232931726908, \"State\": \"South Carolina\", \"id\": 45}, {\"Unnamed: 0\": 41, \"Abbreviation\": \"SD\", \"Campaign Success Rate\": 0.38235294117647056, \"State\": \"South Dakota\", \"id\": 46}, {\"Unnamed: 0\": 42, \"Abbreviation\": \"TN\", \"Campaign Success Rate\": 0.5944773175542406, \"State\": \"Tennessee\", \"id\": 47}, {\"Unnamed: 0\": 43, \"Abbreviation\": \"TX\", \"Campaign Success Rate\": 0.4883187035786631, \"State\": \"Texas\", \"id\": 48}, {\"Unnamed: 0\": 44, \"Abbreviation\": \"UT\", \"Campaign Success Rate\": 0.547783251231527, \"State\": \"Utah\", \"id\": 49}, {\"Unnamed: 0\": 45, \"Abbreviation\": \"VT\", \"Campaign Success Rate\": 0.7356746765249538, \"State\": \"Vermont\", \"id\": 50}, {\"Unnamed: 0\": 46, \"Abbreviation\": \"VA\", \"Campaign Success Rate\": 0.4851444851444852, \"State\": \"Virginia\", \"id\": 51}, {\"Unnamed: 0\": 47, \"Abbreviation\": \"WA\", \"Campaign Success Rate\": 0.6217454194792671, \"State\": \"Washington\", \"id\": 53}, {\"Unnamed: 0\": 48, \"Abbreviation\": \"WV\", \"Campaign Success Rate\": 0.4485049833887043, \"State\": \"West Virginia\", \"id\": 54}, {\"Unnamed: 0\": 49, \"Abbreviation\": \"WI\", \"Campaign Success Rate\": 0.5331680099194048, \"State\": \"Wisconsin\", \"id\": 55}, {\"Unnamed: 0\": 50, \"Abbreviation\": \"WY\", \"Campaign Success Rate\": 0.5359477124183006, \"State\": \"Wyoming\", \"id\": 56}]}};\n",
              "      var embedOpt = {\"mode\": \"vega-lite\"};\n",
              "\n",
              "      function showError(el, error){\n",
              "          el.innerHTML = ('<div class=\"error\" style=\"color:red;\">'\n",
              "                          + '<p>JavaScript Error: ' + error.message + '</p>'\n",
              "                          + \"<p>This usually means there's a typo in your chart specification. \"\n",
              "                          + \"See the javascript console for the full traceback.</p>\"\n",
              "                          + '</div>');\n",
              "          throw error;\n",
              "      }\n",
              "      const el = document.getElementById('altair-viz');\n",
              "      vegaEmbed(\"#altair-viz\", spec, embedOpt)\n",
              "        .catch(error => showError(el, error));\n",
              "\n",
              "  </script>\n",
              "</body>\n",
              "</html>"
            ]
          },
          "metadata": {
            "tags": []
          },
          "execution_count": 6
        }
      ]
    }
  ]
}